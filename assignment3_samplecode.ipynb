{
 "metadata": {
  "kernelspec": {
   "display_name": "Python 2",
   "language": "python",
   "name": "python2"
  },
  "language_info": {
   "codemirror_mode": {
    "name": "ipython",
    "version": 2
   },
   "file_extension": ".py",
   "mimetype": "text/x-python",
   "name": "python",
   "nbconvert_exporter": "python",
   "pygments_lexer": "ipython2",
   "version": "2.7.9"
  },
  "name": ""
 },
 "nbformat": 3,
 "nbformat_minor": 0,
 "worksheets": [
  {
   "cells": [
    {
     "cell_type": "code",
     "collapsed": false,
     "input": [
      "import os\n",
      "import graphlab\n",
      "sf = graphlab.SFrame.read_csv('C:/Users/Nandini/Documents/Textbooks/Big data/Assignment/reuters.csv', header=False)"
     ],
     "language": "python",
     "metadata": {},
     "outputs": [
      {
       "output_type": "stream",
       "stream": "stderr",
       "text": [
        "2016-04-22 18:03:50,023 [INFO] graphlab.cython.cy_server, 176: GraphLab Create v1.8.5 started. Logging: C:\\Users\\Nandini\\AppData\\Local\\Temp\\graphlab_server_1461362626.log.0\n"
       ]
      },
      {
       "output_type": "stream",
       "stream": "stdout",
       "text": [
        "This trial license of GraphLab Create is assigned to nramanan@iu.edu and will expire on May 19, 2016. Please contact trial@dato.com for licensing options or to request a free non-commercial license for personal or academic use.\n",
        "Finished parsing file C:\\Users\\Nandini\\Documents\\Textbooks\\Big data\\Assignment\\reuters.csv\n",
        "Parsing completed. Parsed 100 lines in 0.199642 secs.\n",
        "------------------------------------------------------"
       ]
      },
      {
       "output_type": "stream",
       "stream": "stdout",
       "text": [
        "\n",
        "Inferred types from first line of file as \n",
        "column_type_hints=[str,str]\n",
        "If parsing fails due to incorrect types, you can correct\n",
        "the inferred type list above and pass it to read_csv in\n",
        "the column_type_hints argument\n",
        "------------------------------------------------------\n",
        "Finished parsing file C:\\Users\\Nandini\\Documents\\Textbooks\\Big data\\Assignment\\reuters.csv\n",
        "Parsing completed. Parsed 2286 lines in 0.252684 secs.\n"
       ]
      }
     ],
     "prompt_number": 1
    },
    {
     "cell_type": "code",
     "collapsed": false,
     "input": [
      "sf\n"
     ],
     "language": "python",
     "metadata": {},
     "outputs": [
      {
       "html": [
        "<div style=\"max-height:1000px;max-width:1500px;overflow:auto;\"><table frame=\"box\" rules=\"cols\">\n",
        "    <tr>\n",
        "        <th style=\"padding-left: 1em; padding-right: 1em; text-align: center\">X1</th>\n",
        "        <th style=\"padding-left: 1em; padding-right: 1em; text-align: center\">X2</th>\n",
        "    </tr>\n",
        "    <tr>\n",
        "        <td style=\"padding-left: 1em; padding-right: 1em; text-align: center; vertical-align: top\">ipi</td>\n",
        "        <td style=\"padding-left: 1em; padding-right: 1em; text-align: center; vertical-align: top\">French industrial<br>production rose a ...</td>\n",
        "    </tr>\n",
        "    <tr>\n",
        "        <td style=\"padding-left: 1em; padding-right: 1em; text-align: center; vertical-align: top\">ipi</td>\n",
        "        <td style=\"padding-left: 1em; padding-right: 1em; text-align: center; vertical-align: top\">UK Industrial production<br>rose a provisional 04 ...</td>\n",
        "    </tr>\n",
        "    <tr>\n",
        "        <td style=\"padding-left: 1em; padding-right: 1em; text-align: center; vertical-align: top\">ipi</td>\n",
        "        <td style=\"padding-left: 1em; padding-right: 1em; text-align: center; vertical-align: top\">Japans preliminary<br>industrial production ...</td>\n",
        "    </tr>\n",
        "    <tr>\n",
        "        <td style=\"padding-left: 1em; padding-right: 1em; text-align: center; vertical-align: top\">ipi</td>\n",
        "        <td style=\"padding-left: 1em; padding-right: 1em; text-align: center; vertical-align: top\">Japans industrial<br>production index base ...</td>\n",
        "    </tr>\n",
        "    <tr>\n",
        "        <td style=\"padding-left: 1em; padding-right: 1em; text-align: center; vertical-align: top\">ipi</td>\n",
        "        <td style=\"padding-left: 1em; padding-right: 1em; text-align: center; vertical-align: top\">The Soviet economy<br>recovered slightly last ...</td>\n",
        "    </tr>\n",
        "    <tr>\n",
        "        <td style=\"padding-left: 1em; padding-right: 1em; text-align: center; vertical-align: top\">ipi</td>\n",
        "        <td style=\"padding-left: 1em; padding-right: 1em; text-align: center; vertical-align: top\">British manufacturers<br>expect output to grow ...</td>\n",
        "    </tr>\n",
        "    <tr>\n",
        "        <td style=\"padding-left: 1em; padding-right: 1em; text-align: center; vertical-align: top\">ipi</td>\n",
        "        <td style=\"padding-left: 1em; padding-right: 1em; text-align: center; vertical-align: top\">Industrial output in<br>January was 609 pct a ...</td>\n",
        "    </tr>\n",
        "    <tr>\n",
        "        <td style=\"padding-left: 1em; padding-right: 1em; text-align: center; vertical-align: top\">ipi</td>\n",
        "        <td style=\"padding-left: 1em; padding-right: 1em; text-align: center; vertical-align: top\">The growth rate of<br>Brazilian industrial ...</td>\n",
        "    </tr>\n",
        "    <tr>\n",
        "        <td style=\"padding-left: 1em; padding-right: 1em; text-align: center; vertical-align: top\">ipi</td>\n",
        "        <td style=\"padding-left: 1em; padding-right: 1em; text-align: center; vertical-align: top\">Swiss industrial output<br>rose nine pct in the ...</td>\n",
        "    </tr>\n",
        "    <tr>\n",
        "        <td style=\"padding-left: 1em; padding-right: 1em; text-align: center; vertical-align: top\">ipi</td>\n",
        "        <td style=\"padding-left: 1em; padding-right: 1em; text-align: center; vertical-align: top\">Chinas industrial output<br>rose 141 pct in the f ...</td>\n",
        "    </tr>\n",
        "</table>\n",
        "[2286 rows x 2 columns]<br/>Note: Only the head of the SFrame is printed.<br/>You can use print_rows(num_rows=m, num_columns=n) to print more rows and columns.\n",
        "</div>"
       ],
       "metadata": {},
       "output_type": "pyout",
       "prompt_number": 53,
       "text": [
        "Columns:\n",
        "\tX1\tstr\n",
        "\tX2\tstr\n",
        "\n",
        "Rows: 2286\n",
        "\n",
        "Data:\n",
        "+-----+-------------------------------+\n",
        "|  X1 |               X2              |\n",
        "+-----+-------------------------------+\n",
        "| ipi | French industrial producti... |\n",
        "| ipi | UK Industrial production r... |\n",
        "| ipi | Japans preliminary industr... |\n",
        "| ipi | Japans industrial producti... |\n",
        "| ipi | The Soviet economy recover... |\n",
        "| ipi | British manufacturers expe... |\n",
        "| ipi | Industrial output in Janua... |\n",
        "| ipi | The growth rate of Brazili... |\n",
        "| ipi | Swiss industrial output ro... |\n",
        "| ipi | Chinas industrial output r... |\n",
        "+-----+-------------------------------+\n",
        "[2286 rows x 2 columns]\n",
        "Note: Only the head of the SFrame is printed.\n",
        "You can use print_rows(num_rows=m, num_columns=n) to print more rows and columns."
       ]
      }
     ],
     "prompt_number": 53
    },
    {
     "cell_type": "markdown",
     "metadata": {},
     "source": [
      "<h1>generating features</h1>"
     ]
    },
    {
     "cell_type": "code",
     "collapsed": true,
     "input": [
      "bow = graphlab.text_analytics.count_words(sf['X2'])\n"
     ],
     "language": "python",
     "metadata": {},
     "outputs": [],
     "prompt_number": 55
    },
    {
     "cell_type": "code",
     "collapsed": true,
     "input": [
      "sf['bow'] = bow\n"
     ],
     "language": "python",
     "metadata": {},
     "outputs": [],
     "prompt_number": 56
    },
    {
     "cell_type": "code",
     "collapsed": true,
     "input": [
      "sf['tfidf'] = graphlab.text_analytics.tf_idf(sf['bow'])\n"
     ],
     "language": "python",
     "metadata": {},
     "outputs": [],
     "prompt_number": 57
    },
    {
     "cell_type": "code",
     "collapsed": true,
     "input": [
      "docs = sf['bow'].dict_trim_by_values(2)\n"
     ],
     "language": "python",
     "metadata": {},
     "outputs": [],
     "prompt_number": 58
    },
    {
     "cell_type": "markdown",
     "metadata": {},
     "source": [
      "<h1>text cleaning</h1>"
     ]
    },
    {
     "cell_type": "code",
     "collapsed": true,
     "input": [
      "docs = docs.dict_trim_by_keys(graphlab.text_analytics.stopwords(), exclude=True)\n"
     ],
     "language": "python",
     "metadata": {},
     "outputs": [],
     "prompt_number": 59
    },
    {
     "cell_type": "code",
     "collapsed": false,
     "input": [
      "docs[0]\n"
     ],
     "language": "python",
     "metadata": {},
     "outputs": [
      {
       "metadata": {},
       "output_type": "pyout",
       "prompt_number": 60,
       "text": [
        "{'1980': 2L, 'base': 2L, 'february': 2L, 'insee': 2L, 'january': 2L, 'pct': 2L}"
       ]
      }
     ],
     "prompt_number": 60
    },
    {
     "cell_type": "code",
     "collapsed": false,
     "input": [
      "sf"
     ],
     "language": "python",
     "metadata": {},
     "outputs": [
      {
       "html": [
        "<div style=\"max-height:1000px;max-width:1500px;overflow:auto;\"><table frame=\"box\" rules=\"cols\">\n",
        "    <tr>\n",
        "        <th style=\"padding-left: 1em; padding-right: 1em; text-align: center\">X1</th>\n",
        "        <th style=\"padding-left: 1em; padding-right: 1em; text-align: center\">X2</th>\n",
        "        <th style=\"padding-left: 1em; padding-right: 1em; text-align: center\">bow</th>\n",
        "        <th style=\"padding-left: 1em; padding-right: 1em; text-align: center\">tfidf</th>\n",
        "    </tr>\n",
        "    <tr>\n",
        "        <td style=\"padding-left: 1em; padding-right: 1em; text-align: center; vertical-align: top\">ipi</td>\n",
        "        <td style=\"padding-left: 1em; padding-right: 1em; text-align: center; vertical-align: top\">French industrial<br>production rose a ...</td>\n",
        "        <td style=\"padding-left: 1em; padding-right: 1em; text-align: center; vertical-align: top\">{'and': 1L, 'adjusted':<br>1L, 'industrial': 1L, ...</td>\n",
        "        <td style=\"padding-left: 1em; padding-right: 1em; text-align: center; vertical-align: top\">{'and':<br>0.13967445713823656, ...</td>\n",
        "    </tr>\n",
        "    <tr>\n",
        "        <td style=\"padding-left: 1em; padding-right: 1em; text-align: center; vertical-align: top\">ipi</td>\n",
        "        <td style=\"padding-left: 1em; padding-right: 1em; text-align: center; vertical-align: top\">UK Industrial production<br>rose a provisional 04 ...</td>\n",
        "        <td style=\"padding-left: 1em; padding-right: 1em; text-align: center; vertical-align: top\">{'six': 1L, 'office': 2L,<br>'show': 1L, '1264': 1L, ...</td>\n",
        "        <td style=\"padding-left: 1em; padding-right: 1em; text-align: center; vertical-align: top\">{'six':<br>2.5034502275001693, ...</td>\n",
        "    </tr>\n",
        "    <tr>\n",
        "        <td style=\"padding-left: 1em; padding-right: 1em; text-align: center; vertical-align: top\">ipi</td>\n",
        "        <td style=\"padding-left: 1em; padding-right: 1em; text-align: center; vertical-align: top\">Japans preliminary<br>industrial production ...</td>\n",
        "        <td style=\"padding-left: 1em; padding-right: 1em; text-align: center; vertical-align: top\">{'and': 1L, 'adjusted':<br>3L, 'industrial': 1L, ...</td>\n",
        "        <td style=\"padding-left: 1em; padding-right: 1em; text-align: center; vertical-align: top\">{'and':<br>0.13967445713823656, ...</td>\n",
        "    </tr>\n",
        "    <tr>\n",
        "        <td style=\"padding-left: 1em; padding-right: 1em; text-align: center; vertical-align: top\">ipi</td>\n",
        "        <td style=\"padding-left: 1em; padding-right: 1em; text-align: center; vertical-align: top\">Japans industrial<br>production index base ...</td>\n",
        "        <td style=\"padding-left: 1em; padding-right: 1em; text-align: center; vertical-align: top\">{'adjusted': 3L, 'trade':<br>1L, 'previous': 1L, ...</td>\n",
        "        <td style=\"padding-left: 1em; padding-right: 1em; text-align: center; vertical-align: top\">{'adjusted':<br>8.917154728671, 'trade': ...</td>\n",
        "    </tr>\n",
        "    <tr>\n",
        "        <td style=\"padding-left: 1em; padding-right: 1em; text-align: center; vertical-align: top\">ipi</td>\n",
        "        <td style=\"padding-left: 1em; padding-right: 1em; text-align: center; vertical-align: top\">The Soviet economy<br>recovered slightly last ...</td>\n",
        "        <td style=\"padding-left: 1em; padding-right: 1em; text-align: center; vertical-align: top\">{'sector': 2L, 'all': 1L,<br>'show': 1L, ...</td>\n",
        "        <td style=\"padding-left: 1em; padding-right: 1em; text-align: center; vertical-align: top\">{'sector':<br>6.1803358904267665, ...</td>\n",
        "    </tr>\n",
        "    <tr>\n",
        "        <td style=\"padding-left: 1em; padding-right: 1em; text-align: center; vertical-align: top\">ipi</td>\n",
        "        <td style=\"padding-left: 1em; padding-right: 1em; text-align: center; vertical-align: top\">British manufacturers<br>expect output to grow ...</td>\n",
        "        <td style=\"padding-left: 1em; padding-right: 1em; text-align: center; vertical-align: top\">{'rating': 1L, 'all': 1L,<br>'reuter': 1L, 'consid ...</td>\n",
        "        <td style=\"padding-left: 1em; padding-right: 1em; text-align: center; vertical-align: top\">{'rating':<br>6.348264483234865, 'a ...</td>\n",
        "    </tr>\n",
        "    <tr>\n",
        "        <td style=\"padding-left: 1em; padding-right: 1em; text-align: center; vertical-align: top\">ipi</td>\n",
        "        <td style=\"padding-left: 1em; padding-right: 1em; text-align: center; vertical-align: top\">Industrial output in<br>January was 609 pct a ...</td>\n",
        "        <td style=\"padding-left: 1em; padding-right: 1em; text-align: center; vertical-align: top\">{'and': 2L, 'reuter': 1L,<br>'show': 1L, 'trend': 1L, ...</td>\n",
        "        <td style=\"padding-left: 1em; padding-right: 1em; text-align: center; vertical-align: top\">{'and':<br>0.2793489142764731, ...</td>\n",
        "    </tr>\n",
        "    <tr>\n",
        "        <td style=\"padding-left: 1em; padding-right: 1em; text-align: center; vertical-align: top\">ipi</td>\n",
        "        <td style=\"padding-left: 1em; padding-right: 1em; text-align: center; vertical-align: top\">The growth rate of<br>Brazilian industrial ...</td>\n",
        "        <td style=\"padding-left: 1em; padding-right: 1em; text-align: center; vertical-align: top\">{'and': 2L, 'industrial':<br>2L, 'show': 1L, 'trend': ...</td>\n",
        "        <td style=\"padding-left: 1em; padding-right: 1em; text-align: center; vertical-align: top\">{'and':<br>0.2793489142764731, ...</td>\n",
        "    </tr>\n",
        "    <tr>\n",
        "        <td style=\"padding-left: 1em; padding-right: 1em; text-align: center; vertical-align: top\">ipi</td>\n",
        "        <td style=\"padding-left: 1em; padding-right: 1em; text-align: center; vertical-align: top\">Swiss industrial output<br>rose nine pct in the ...</td>\n",
        "        <td style=\"padding-left: 1em; padding-right: 1em; text-align: center; vertical-align: top\">{'and': 4L, 'industrial':<br>1L, 'stood': 1L, ...</td>\n",
        "        <td style=\"padding-left: 1em; padding-right: 1em; text-align: center; vertical-align: top\">{'and':<br>0.5586978285529463, ...</td>\n",
        "    </tr>\n",
        "    <tr>\n",
        "        <td style=\"padding-left: 1em; padding-right: 1em; text-align: center; vertical-align: top\">ipi</td>\n",
        "        <td style=\"padding-left: 1em; padding-right: 1em; text-align: center; vertical-align: top\">Chinas industrial output<br>rose 141 pct in the f ...</td>\n",
        "        <td style=\"padding-left: 1em; padding-right: 1em; text-align: center; vertical-align: top\">{'and': 1L, 'seven': 1L,<br>'industrial': 3L, '19 ...</td>\n",
        "        <td style=\"padding-left: 1em; padding-right: 1em; text-align: center; vertical-align: top\">{'and':<br>0.13967445713823656, ...</td>\n",
        "    </tr>\n",
        "</table>\n",
        "[2286 rows x 4 columns]<br/>Note: Only the head of the SFrame is printed.<br/>You can use print_rows(num_rows=m, num_columns=n) to print more rows and columns.\n",
        "</div>"
       ],
       "metadata": {},
       "output_type": "pyout",
       "prompt_number": 61,
       "text": [
        "Columns:\n",
        "\tX1\tstr\n",
        "\tX2\tstr\n",
        "\tbow\tdict\n",
        "\ttfidf\tdict\n",
        "\n",
        "Rows: 2286\n",
        "\n",
        "Data:\n",
        "+-----+-------------------------------+-------------------------------+\n",
        "|  X1 |               X2              |              bow              |\n",
        "+-----+-------------------------------+-------------------------------+\n",
        "| ipi | French industrial producti... | {'and': 1L, 'adjusted': 1L... |\n",
        "| ipi | UK Industrial production r... | {'six': 1L, 'office': 2L, ... |\n",
        "| ipi | Japans preliminary industr... | {'and': 1L, 'adjusted': 3L... |\n",
        "| ipi | Japans industrial producti... | {'adjusted': 3L, 'trade': ... |\n",
        "| ipi | The Soviet economy recover... | {'sector': 2L, 'all': 1L, ... |\n",
        "| ipi | British manufacturers expe... | {'rating': 1L, 'all': 1L, ... |\n",
        "| ipi | Industrial output in Janua... | {'and': 2L, 'reuter': 1L, ... |\n",
        "| ipi | The growth rate of Brazili... | {'and': 2L, 'industrial': ... |\n",
        "| ipi | Swiss industrial output ro... | {'and': 4L, 'industrial': ... |\n",
        "| ipi | Chinas industrial output r... | {'and': 1L, 'seven': 1L, '... |\n",
        "+-----+-------------------------------+-------------------------------+\n",
        "+-------------------------------+\n",
        "|             tfidf             |\n",
        "+-------------------------------+\n",
        "| {'and': 0.1396744571382365... |\n",
        "| {'six': 2.5034502275001693... |\n",
        "| {'and': 0.1396744571382365... |\n",
        "| {'adjusted': 8.91715472867... |\n",
        "| {'sector': 6.1803358904267... |\n",
        "| {'rating': 6.3482644832348... |\n",
        "| {'and': 0.2793489142764731... |\n",
        "| {'and': 0.2793489142764731... |\n",
        "| {'and': 0.5586978285529463... |\n",
        "| {'and': 0.1396744571382365... |\n",
        "+-------------------------------+\n",
        "[2286 rows x 4 columns]\n",
        "Note: Only the head of the SFrame is printed.\n",
        "You can use print_rows(num_rows=m, num_columns=n) to print more rows and columns."
       ]
      }
     ],
     "prompt_number": 61
    },
    {
     "cell_type": "code",
     "collapsed": true,
     "input": [
      "train_data, test_data = sf.random_split(0.8)\n"
     ],
     "language": "python",
     "metadata": {},
     "outputs": [],
     "prompt_number": 62
    },
    {
     "cell_type": "markdown",
     "metadata": {},
     "source": [
      "<h1>use different classifiers</h1>"
     ]
    },
    {
     "cell_type": "code",
     "collapsed": false,
     "input": [
      "model1 = graphlab.boosted_trees_classifier.create(train_data, target='X1',\n",
      "                                    features = ['tfidf'])\n",
      "\n",
      "\n",
      "predictions = model1.predict(test_data)\n",
      "\n",
      "results = model1.evaluate(test_data)\n",
      "\n",
      "print (results)\n"
     ],
     "language": "python",
     "metadata": {},
     "outputs": [
      {
       "output_type": "stream",
       "stream": "stdout",
       "text": [
        "PROGRESS: Creating a validation set from 5 percent of training data. This may take a while.\n",
        "          You can set ``validation_set=None`` to disable validation tracking.\n",
        "\n"
       ]
      },
      {
       "html": [
        "<pre>WARNING: The number of feature dimensions in this problem is very large in comparison with the number of examples. Unless an appropriate regularization value is set, this model may not provide accurate predictions for a validation/test set.</pre>"
       ],
       "metadata": {},
       "output_type": "display_data",
       "text": [
        "WARNING: The number of feature dimensions in this problem is very large in comparison with the number of examples. Unless an appropriate regularization value is set, this model may not provide accurate predictions for a validation/test set."
       ]
      },
      {
       "html": [
        "<pre>WARNING: Detected extremely low variance for feature(s) 'tfidf' because all entries are nearly the same.\n",
        "Proceeding with model training using all features. If the model does not provide results of adequate quality, exclude the above mentioned feature(s) from the input dataset.</pre>"
       ],
       "metadata": {},
       "output_type": "display_data",
       "text": [
        "WARNING: Detected extremely low variance for feature(s) 'tfidf' because all entries are nearly the same.\n",
        "Proceeding with model training using all features. If the model does not provide results of adequate quality, exclude the above mentioned feature(s) from the input dataset."
       ]
      },
      {
       "html": [
        "<pre>Boosted trees classifier:</pre>"
       ],
       "metadata": {},
       "output_type": "display_data",
       "text": [
        "Boosted trees classifier:"
       ]
      },
      {
       "html": [
        "<pre>--------------------------------------------------------</pre>"
       ],
       "metadata": {},
       "output_type": "display_data",
       "text": [
        "--------------------------------------------------------"
       ]
      },
      {
       "html": [
        "<pre>Number of examples          : 1774</pre>"
       ],
       "metadata": {},
       "output_type": "display_data",
       "text": [
        "Number of examples          : 1774"
       ]
      },
      {
       "html": [
        "<pre>Number of classes           : 34</pre>"
       ],
       "metadata": {},
       "output_type": "display_data",
       "text": [
        "Number of classes           : 34"
       ]
      },
      {
       "html": [
        "<pre>Number of feature columns   : 1</pre>"
       ],
       "metadata": {},
       "output_type": "display_data",
       "text": [
        "Number of feature columns   : 1"
       ]
      },
      {
       "html": [
        "<pre>Number of unpacked features : 17140</pre>"
       ],
       "metadata": {},
       "output_type": "display_data",
       "text": [
        "Number of unpacked features : 17140"
       ]
      },
      {
       "html": [
        "<pre>+-----------+--------------+-------------------+-------------------+---------------------+---------------------+</pre>"
       ],
       "metadata": {},
       "output_type": "display_data",
       "text": [
        "+-----------+--------------+-------------------+-------------------+---------------------+---------------------+"
       ]
      },
      {
       "html": [
        "<pre>| Iteration | Elapsed Time | Training-accuracy | Training-log_loss | Validation-accuracy | Validation-log_loss |</pre>"
       ],
       "metadata": {},
       "output_type": "display_data",
       "text": [
        "| Iteration | Elapsed Time | Training-accuracy | Training-log_loss | Validation-accuracy | Validation-log_loss |"
       ]
      },
      {
       "html": [
        "<pre>+-----------+--------------+-------------------+-------------------+---------------------+---------------------+</pre>"
       ],
       "metadata": {},
       "output_type": "display_data",
       "text": [
        "+-----------+--------------+-------------------+-------------------+---------------------+---------------------+"
       ]
      },
      {
       "html": [
        "<pre>| 1         | 2.007426     | 0.869222          | 1.257996          | 0.703297            | 1.800555            |</pre>"
       ],
       "metadata": {},
       "output_type": "display_data",
       "text": [
        "| 1         | 2.007426     | 0.869222          | 1.257996          | 0.703297            | 1.800555            |"
       ]
      },
      {
       "html": [
        "<pre>| 2         | 3.510300     | 0.887260          | 0.957130          | 0.703297            | 1.543036            |</pre>"
       ],
       "metadata": {},
       "output_type": "display_data",
       "text": [
        "| 2         | 3.510300     | 0.887260          | 0.957130          | 0.703297            | 1.543036            |"
       ]
      },
      {
       "html": [
        "<pre>| 3         | 4.595392     | 0.896280          | 0.763452          | 0.670330            | 1.405897            |</pre>"
       ],
       "metadata": {},
       "output_type": "display_data",
       "text": [
        "| 3         | 4.595392     | 0.896280          | 0.763452          | 0.670330            | 1.405897            |"
       ]
      },
      {
       "html": [
        "<pre>| 4         | 5.604985     | 0.905862          | 0.620427          | 0.681319            | 1.286002            |</pre>"
       ],
       "metadata": {},
       "output_type": "display_data",
       "text": [
        "| 4         | 5.604985     | 0.905862          | 0.620427          | 0.681319            | 1.286002            |"
       ]
      },
      {
       "html": [
        "<pre>| 5         | 6.591710     | 0.910372          | 0.517426          | 0.681319            | 1.205299            |</pre>"
       ],
       "metadata": {},
       "output_type": "display_data",
       "text": [
        "| 5         | 6.591710     | 0.910372          | 0.517426          | 0.681319            | 1.205299            |"
       ]
      },
      {
       "html": [
        "<pre>| 6         | 7.461001     | 0.913754          | 0.438382          | 0.681319            | 1.153576            |</pre>"
       ],
       "metadata": {},
       "output_type": "display_data",
       "text": [
        "| 6         | 7.461001     | 0.913754          | 0.438382          | 0.681319            | 1.153576            |"
       ]
      },
      {
       "html": [
        "<pre>| 7         | 8.169785     | 0.915445          | 0.377521          | 0.670330            | 1.107963            |</pre>"
       ],
       "metadata": {},
       "output_type": "display_data",
       "text": [
        "| 7         | 8.169785     | 0.915445          | 0.377521          | 0.670330            | 1.107963            |"
       ]
      },
      {
       "html": [
        "<pre>| 8         | 8.814931     | 0.917700          | 0.328891          | 0.692308            | 1.078384            |</pre>"
       ],
       "metadata": {},
       "output_type": "display_data",
       "text": [
        "| 8         | 8.814931     | 0.917700          | 0.328891          | 0.692308            | 1.078384            |"
       ]
      },
      {
       "html": [
        "<pre>| 9         | 9.413853     | 0.918264          | 0.291179          | 0.703297            | 1.054121            |</pre>"
       ],
       "metadata": {},
       "output_type": "display_data",
       "text": [
        "| 9         | 9.413853     | 0.918264          | 0.291179          | 0.703297            | 1.054121            |"
       ]
      },
      {
       "html": [
        "<pre>| 10        | 9.989270     | 0.918828          | 0.260813          | 0.714286            | 1.027204            |</pre>"
       ],
       "metadata": {},
       "output_type": "display_data",
       "text": [
        "| 10        | 9.989270     | 0.918828          | 0.260813          | 0.714286            | 1.027204            |"
       ]
      },
      {
       "html": [
        "<pre>+-----------+--------------+-------------------+-------------------+---------------------+---------------------+</pre>"
       ],
       "metadata": {},
       "output_type": "display_data",
       "text": [
        "+-----------+--------------+-------------------+-------------------+---------------------+---------------------+"
       ]
      },
      {
       "output_type": "stream",
       "stream": "stdout",
       "text": [
        "{'f1_score': 0.6276498851265635, 'auc': 0.9652990398817982, 'recall': 0.6138754862505797, 'precision': 0.6575177273706684, 'log_loss': 1.1676065260936976, 'roc_curve': Columns:\n",
        "\tthreshold\tfloat\n",
        "\tfpr\tfloat\n",
        "\ttpr\tfloat\n",
        "\tp\tint\n",
        "\tn\tint\n",
        "\tclass\tint\n",
        "\n",
        "Rows: 3400034\n",
        "\n",
        "Data:\n",
        "+-----------+-----+-----+----+-----+-------+\n",
        "| threshold | fpr | tpr | p  |  n  | class |\n",
        "+-----------+-----+-----+----+-----+-------+\n",
        "|    0.0    | 1.0 | 1.0 | 13 | 408 |   0   |\n",
        "|   1e-05   | 1.0 | 1.0 | 13 | 408 |   0   |\n",
        "|   2e-05   | 1.0 | 1.0 | 13 | 408 |   0   |\n",
        "|   3e-05   | 1.0 | 1.0 | 13 | 408 |   0   |\n",
        "|   4e-05   | 1.0 | 1.0 | 13 | 408 |   0   |\n",
        "|   5e-05   | 1.0 | 1.0 | 13 | 408 |   0   |\n",
        "|   6e-05   | 1.0 | 1.0 | 13 | 408 |   0   |\n",
        "|   7e-05   | 1.0 | 1.0 | 13 | 408 |   0   |\n",
        "|   8e-05   | 1.0 | 1.0 | 13 | 408 |   0   |\n",
        "|   9e-05   | 1.0 | 1.0 | 13 | 408 |   0   |\n",
        "+-----------+-----+-----+----+-----+-------+\n",
        "[3400034 rows x 6 columns]\n",
        "Note: Only the head of the SFrame is printed.\n",
        "You can use print_rows(num_rows=m, num_columns=n) to print more rows and columns., 'confusion_matrix': Columns:\n",
        "\ttarget_label\tstr\n",
        "\tpredicted_label\tstr\n",
        "\tcount\tint\n",
        "\n",
        "Rows: 100\n",
        "\n",
        "Data:\n",
        "+--------------+-----------------+-------+\n",
        "| target_label | predicted_label | count |\n",
        "+--------------+-----------------+-------+\n",
        "|   nat-gas    |   crudenat-gas  |   1   |\n",
        "| crudenat-gas |   crudenat-gas  |   8   |\n",
        "| crudenat-gas |      grain      |   1   |\n",
        "|   pet-chem   |      grain      |   3   |\n",
        "|     ipi      |     pet-chem    |   1   |\n",
        "|  grainrice   |      grain      |   9   |\n",
        "|   veg-oil    | veg-oilpalm-oil |   5   |\n",
        "|    cotton    |      grain      |   1   |\n",
        "|     bop      |   crudenat-gas  |   1   |\n",
        "|  grainrice   |    grainrice    |   1   |\n",
        "+--------------+-----------------+-------+\n",
        "[100 rows x 3 columns]\n",
        "Note: Only the head of the SFrame is printed.\n",
        "You can use print_rows(num_rows=m, num_columns=n) to print more rows and columns., 'accuracy': 0.6579572446555819}\n"
       ]
      }
     ],
     "prompt_number": 102
    },
    {
     "cell_type": "code",
     "collapsed": false,
     "input": [
      "model2 = graphlab.boosted_trees_classifier.create(train_data, target='X1',\n",
      "                                    features = ['bow'])\n",
      "\n",
      "predictions = model2.predict(test_data)\n",
      "\n",
      "results = model2.evaluate(test_data)\n",
      "\n",
      "print (results)"
     ],
     "language": "python",
     "metadata": {},
     "outputs": [
      {
       "output_type": "stream",
       "stream": "stdout",
       "text": [
        "PROGRESS: Creating a validation set from 5 percent of training data. This may take a while.\n",
        "          You can set ``validation_set=None`` to disable validation tracking.\n",
        "\n"
       ]
      },
      {
       "html": [
        "<pre>WARNING: The number of feature dimensions in this problem is very large in comparison with the number of examples. Unless an appropriate regularization value is set, this model may not provide accurate predictions for a validation/test set.</pre>"
       ],
       "metadata": {},
       "output_type": "display_data",
       "text": [
        "WARNING: The number of feature dimensions in this problem is very large in comparison with the number of examples. Unless an appropriate regularization value is set, this model may not provide accurate predictions for a validation/test set."
       ]
      },
      {
       "html": [
        "<pre>Boosted trees classifier:</pre>"
       ],
       "metadata": {},
       "output_type": "display_data",
       "text": [
        "Boosted trees classifier:"
       ]
      },
      {
       "html": [
        "<pre>--------------------------------------------------------</pre>"
       ],
       "metadata": {},
       "output_type": "display_data",
       "text": [
        "--------------------------------------------------------"
       ]
      },
      {
       "html": [
        "<pre>Number of examples          : 1793</pre>"
       ],
       "metadata": {},
       "output_type": "display_data",
       "text": [
        "Number of examples          : 1793"
       ]
      },
      {
       "html": [
        "<pre>Number of classes           : 34</pre>"
       ],
       "metadata": {},
       "output_type": "display_data",
       "text": [
        "Number of classes           : 34"
       ]
      },
      {
       "html": [
        "<pre>Number of feature columns   : 1</pre>"
       ],
       "metadata": {},
       "output_type": "display_data",
       "text": [
        "Number of feature columns   : 1"
       ]
      },
      {
       "html": [
        "<pre>Number of unpacked features : 17137</pre>"
       ],
       "metadata": {},
       "output_type": "display_data",
       "text": [
        "Number of unpacked features : 17137"
       ]
      },
      {
       "html": [
        "<pre>+-----------+--------------+-------------------+-------------------+---------------------+---------------------+</pre>"
       ],
       "metadata": {},
       "output_type": "display_data",
       "text": [
        "+-----------+--------------+-------------------+-------------------+---------------------+---------------------+"
       ]
      },
      {
       "html": [
        "<pre>| Iteration | Elapsed Time | Training-accuracy | Training-log_loss | Validation-accuracy | Validation-log_loss |</pre>"
       ],
       "metadata": {},
       "output_type": "display_data",
       "text": [
        "| Iteration | Elapsed Time | Training-accuracy | Training-log_loss | Validation-accuracy | Validation-log_loss |"
       ]
      },
      {
       "html": [
        "<pre>+-----------+--------------+-------------------+-------------------+---------------------+---------------------+</pre>"
       ],
       "metadata": {},
       "output_type": "display_data",
       "text": [
        "+-----------+--------------+-------------------+-------------------+---------------------+---------------------+"
       ]
      },
      {
       "html": [
        "<pre>| 1         | 2.284764     | 0.883993          | 1.260773          | 0.611111            | 1.912405            |</pre>"
       ],
       "metadata": {},
       "output_type": "display_data",
       "text": [
        "| 1         | 2.284764     | 0.883993          | 1.260773          | 0.611111            | 1.912405            |"
       ]
      },
      {
       "html": [
        "<pre>| 2         | 3.602102     | 0.896821          | 0.954344          | 0.625000            | 1.715673            |</pre>"
       ],
       "metadata": {},
       "output_type": "display_data",
       "text": [
        "| 2         | 3.602102     | 0.896821          | 0.954344          | 0.625000            | 1.715673            |"
       ]
      },
      {
       "html": [
        "<pre>| 3         | 4.687099     | 0.901841          | 0.758727          | 0.625000            | 1.595741            |</pre>"
       ],
       "metadata": {},
       "output_type": "display_data",
       "text": [
        "| 3         | 4.687099     | 0.901841          | 0.758727          | 0.625000            | 1.595741            |"
       ]
      },
      {
       "html": [
        "<pre>| 4         | 5.650872     | 0.906302          | 0.614162          | 0.638889            | 1.480577            |</pre>"
       ],
       "metadata": {},
       "output_type": "display_data",
       "text": [
        "| 4         | 5.650872     | 0.906302          | 0.614162          | 0.638889            | 1.480577            |"
       ]
      },
      {
       "html": [
        "<pre>| 5         | 6.456766     | 0.907975          | 0.510935          | 0.652778            | 1.409842            |</pre>"
       ],
       "metadata": {},
       "output_type": "display_data",
       "text": [
        "| 5         | 6.456766     | 0.907975          | 0.510935          | 0.652778            | 1.409842            |"
       ]
      },
      {
       "html": [
        "<pre>| 6         | 7.109013     | 0.912437          | 0.432873          | 0.680556            | 1.355319            |</pre>"
       ],
       "metadata": {},
       "output_type": "display_data",
       "text": [
        "| 6         | 7.109013     | 0.912437          | 0.432873          | 0.680556            | 1.355319            |"
       ]
      },
      {
       "html": [
        "<pre>| 7         | 7.737318     | 0.915784          | 0.370883          | 0.680556            | 1.307470            |</pre>"
       ],
       "metadata": {},
       "output_type": "display_data",
       "text": [
        "| 7         | 7.737318     | 0.915784          | 0.370883          | 0.680556            | 1.307470            |"
       ]
      },
      {
       "html": [
        "<pre>| 8         | 8.355743     | 0.916899          | 0.322643          | 0.666667            | 1.283653            |</pre>"
       ],
       "metadata": {},
       "output_type": "display_data",
       "text": [
        "| 8         | 8.355743     | 0.916899          | 0.322643          | 0.666667            | 1.283653            |"
       ]
      },
      {
       "html": [
        "<pre>| 9         | 8.773647     | 0.918015          | 0.285194          | 0.680556            | 1.270844            |</pre>"
       ],
       "metadata": {},
       "output_type": "display_data",
       "text": [
        "| 9         | 8.773647     | 0.918015          | 0.285194          | 0.680556            | 1.270844            |"
       ]
      },
      {
       "html": [
        "<pre>| 10        | 9.225320     | 0.919130          | 0.255797          | 0.680556            | 1.254290            |</pre>"
       ],
       "metadata": {},
       "output_type": "display_data",
       "text": [
        "| 10        | 9.225320     | 0.919130          | 0.255797          | 0.680556            | 1.254290            |"
       ]
      },
      {
       "html": [
        "<pre>+-----------+--------------+-------------------+-------------------+---------------------+---------------------+</pre>"
       ],
       "metadata": {},
       "output_type": "display_data",
       "text": [
        "+-----------+--------------+-------------------+-------------------+---------------------+---------------------+"
       ]
      },
      {
       "output_type": "stream",
       "stream": "stdout",
       "text": [
        "{'f1_score': 0.6342843233784035, 'auc': 0.9643713696737959, 'recall': 0.6155175462978121, 'precision': 0.6761399562483155, 'log_loss': 1.201199845276143, 'roc_curve': Columns:\n",
        "\tthreshold\tfloat\n",
        "\tfpr\tfloat\n",
        "\ttpr\tfloat\n",
        "\tp\tint\n",
        "\tn\tint\n",
        "\tclass\tint\n",
        "\n",
        "Rows: 3400034\n",
        "\n",
        "Data:\n",
        "+-----------+-----+-----+----+-----+-------+\n",
        "| threshold | fpr | tpr | p  |  n  | class |\n",
        "+-----------+-----+-----+----+-----+-------+\n",
        "|    0.0    | 1.0 | 1.0 | 13 | 408 |   0   |\n",
        "|   1e-05   | 1.0 | 1.0 | 13 | 408 |   0   |\n",
        "|   2e-05   | 1.0 | 1.0 | 13 | 408 |   0   |\n",
        "|   3e-05   | 1.0 | 1.0 | 13 | 408 |   0   |\n",
        "|   4e-05   | 1.0 | 1.0 | 13 | 408 |   0   |\n",
        "|   5e-05   | 1.0 | 1.0 | 13 | 408 |   0   |\n",
        "|   6e-05   | 1.0 | 1.0 | 13 | 408 |   0   |\n",
        "|   7e-05   | 1.0 | 1.0 | 13 | 408 |   0   |\n",
        "|   8e-05   | 1.0 | 1.0 | 13 | 408 |   0   |\n",
        "|   9e-05   | 1.0 | 1.0 | 13 | 408 |   0   |\n",
        "+-----------+-----+-----+----+-----+-------+\n",
        "[3400034 rows x 6 columns]\n",
        "Note: Only the head of the SFrame is printed.\n",
        "You can use print_rows(num_rows=m, num_columns=n) to print more rows and columns., 'confusion_matrix': Columns:\n",
        "\ttarget_label\tstr\n",
        "\tpredicted_label\tstr\n",
        "\tcount\tint\n",
        "\n",
        "Rows: 99\n",
        "\n",
        "Data:\n",
        "+------------------+------------------+-------+\n",
        "|   target_label   | predicted_label  | count |\n",
        "+------------------+------------------+-------+\n",
        "|   money-fxdlr    | interestmoney-fx |   1   |\n",
        "|     nat-gas      |   crudenat-gas   |   1   |\n",
        "|   money-fxdlr    |       gnp        |   1   |\n",
        "|      grain       |    graincorn     |   22  |\n",
        "|     pet-chem     |      grain       |   3   |\n",
        "|       wpi        |       wpi        |   3   |\n",
        "|    iron-steel    |    iron-steel    |   6   |\n",
        "|       alum       |   money-supply   |   1   |\n",
        "| livestockcarcass |      grain       |   2   |\n",
        "|       gnp        |       jobs       |   1   |\n",
        "+------------------+------------------+-------+\n",
        "[99 rows x 3 columns]\n",
        "Note: Only the head of the SFrame is printed.\n",
        "You can use print_rows(num_rows=m, num_columns=n) to print more rows and columns., 'accuracy': 0.6484560570071259}\n"
       ]
      }
     ],
     "prompt_number": 117
    },
    {
     "cell_type": "code",
     "collapsed": false,
     "input": [
      "model3 = graphlab.boosted_trees_classifier.create(train_data, target='X1',\n",
      "                                    features = ['bow','tfidf'])\n",
      "\n",
      "predictions = model3.predict(test_data)\n",
      "\n",
      "results = model3.evaluate(test_data)\n",
      "\n",
      "print (results)"
     ],
     "language": "python",
     "metadata": {},
     "outputs": [
      {
       "output_type": "stream",
       "stream": "stdout",
       "text": [
        "PROGRESS: Creating a validation set from 5 percent of training data. This may take a while.\n",
        "          You can set ``validation_set=None`` to disable validation tracking.\n",
        "\n"
       ]
      },
      {
       "html": [
        "<pre>WARNING: The number of feature dimensions in this problem is very large in comparison with the number of examples. Unless an appropriate regularization value is set, this model may not provide accurate predictions for a validation/test set.</pre>"
       ],
       "metadata": {},
       "output_type": "display_data",
       "text": [
        "WARNING: The number of feature dimensions in this problem is very large in comparison with the number of examples. Unless an appropriate regularization value is set, this model may not provide accurate predictions for a validation/test set."
       ]
      },
      {
       "html": [
        "<pre>WARNING: Detected extremely low variance for feature(s) 'tfidf' because all entries are nearly the same.\n",
        "Proceeding with model training using all features. If the model does not provide results of adequate quality, exclude the above mentioned feature(s) from the input dataset.</pre>"
       ],
       "metadata": {},
       "output_type": "display_data",
       "text": [
        "WARNING: Detected extremely low variance for feature(s) 'tfidf' because all entries are nearly the same.\n",
        "Proceeding with model training using all features. If the model does not provide results of adequate quality, exclude the above mentioned feature(s) from the input dataset."
       ]
      },
      {
       "html": [
        "<pre>Boosted trees classifier:</pre>"
       ],
       "metadata": {},
       "output_type": "display_data",
       "text": [
        "Boosted trees classifier:"
       ]
      },
      {
       "html": [
        "<pre>--------------------------------------------------------</pre>"
       ],
       "metadata": {},
       "output_type": "display_data",
       "text": [
        "--------------------------------------------------------"
       ]
      },
      {
       "html": [
        "<pre>Number of examples          : 1755</pre>"
       ],
       "metadata": {},
       "output_type": "display_data",
       "text": [
        "Number of examples          : 1755"
       ]
      },
      {
       "html": [
        "<pre>Number of classes           : 34</pre>"
       ],
       "metadata": {},
       "output_type": "display_data",
       "text": [
        "Number of classes           : 34"
       ]
      },
      {
       "html": [
        "<pre>Number of feature columns   : 2</pre>"
       ],
       "metadata": {},
       "output_type": "display_data",
       "text": [
        "Number of feature columns   : 2"
       ]
      },
      {
       "html": [
        "<pre>Number of unpacked features : 34114</pre>"
       ],
       "metadata": {},
       "output_type": "display_data",
       "text": [
        "Number of unpacked features : 34114"
       ]
      },
      {
       "html": [
        "<pre>+-----------+--------------+-------------------+-------------------+---------------------+---------------------+</pre>"
       ],
       "metadata": {},
       "output_type": "display_data",
       "text": [
        "+-----------+--------------+-------------------+-------------------+---------------------+---------------------+"
       ]
      },
      {
       "html": [
        "<pre>| Iteration | Elapsed Time | Training-accuracy | Training-log_loss | Validation-accuracy | Validation-log_loss |</pre>"
       ],
       "metadata": {},
       "output_type": "display_data",
       "text": [
        "| Iteration | Elapsed Time | Training-accuracy | Training-log_loss | Validation-accuracy | Validation-log_loss |"
       ]
      },
      {
       "html": [
        "<pre>+-----------+--------------+-------------------+-------------------+---------------------+---------------------+</pre>"
       ],
       "metadata": {},
       "output_type": "display_data",
       "text": [
        "+-----------+--------------+-------------------+-------------------+---------------------+---------------------+"
       ]
      },
      {
       "html": [
        "<pre>| 1         | 3.472930     | 0.879202          | 1.273852          | 0.690909            | 1.818172            |</pre>"
       ],
       "metadata": {},
       "output_type": "display_data",
       "text": [
        "| 1         | 3.472930     | 0.879202          | 1.273852          | 0.690909            | 1.818172            |"
       ]
      },
      {
       "html": [
        "<pre>| 2         | 5.469271     | 0.892308          | 0.961387          | 0.645455            | 1.659505            |</pre>"
       ],
       "metadata": {},
       "output_type": "display_data",
       "text": [
        "| 2         | 5.469271     | 0.892308          | 0.961387          | 0.645455            | 1.659505            |"
       ]
      },
      {
       "html": [
        "<pre>| 3         | 6.977413     | 0.901994          | 0.760866          | 0.636364            | 1.550659            |</pre>"
       ],
       "metadata": {},
       "output_type": "display_data",
       "text": [
        "| 3         | 6.977413     | 0.901994          | 0.760866          | 0.636364            | 1.550659            |"
       ]
      },
      {
       "html": [
        "<pre>| 4         | 8.179068     | 0.907122          | 0.615141          | 0.636364            | 1.463975            |</pre>"
       ],
       "metadata": {},
       "output_type": "display_data",
       "text": [
        "| 4         | 8.179068     | 0.907122          | 0.615141          | 0.636364            | 1.463975            |"
       ]
      },
      {
       "html": [
        "<pre>| 5         | 9.120041     | 0.914530          | 0.510157          | 0.636364            | 1.405764            |</pre>"
       ],
       "metadata": {},
       "output_type": "display_data",
       "text": [
        "| 5         | 9.120041     | 0.914530          | 0.510157          | 0.636364            | 1.405764            |"
       ]
      },
      {
       "html": [
        "<pre>| 6         | 10.017605    | 0.917949          | 0.429497          | 0.636364            | 1.351011            |</pre>"
       ],
       "metadata": {},
       "output_type": "display_data",
       "text": [
        "| 6         | 10.017605    | 0.917949          | 0.429497          | 0.636364            | 1.351011            |"
       ]
      },
      {
       "html": [
        "<pre>| 7         | 10.998371    | 0.921368          | 0.367390          | 0.636364            | 1.313107            |</pre>"
       ],
       "metadata": {},
       "output_type": "display_data",
       "text": [
        "| 7         | 10.998371    | 0.921368          | 0.367390          | 0.636364            | 1.313107            |"
       ]
      },
      {
       "html": [
        "<pre>| 8         | 11.938908    | 0.921937          | 0.319708          | 0.645455            | 1.289754            |</pre>"
       ],
       "metadata": {},
       "output_type": "display_data",
       "text": [
        "| 8         | 11.938908    | 0.921937          | 0.319708          | 0.645455            | 1.289754            |"
       ]
      },
      {
       "html": [
        "<pre>| 9         | 12.925807    | 0.923077          | 0.279085          | 0.645455            | 1.284426            |</pre>"
       ],
       "metadata": {},
       "output_type": "display_data",
       "text": [
        "| 9         | 12.925807    | 0.923077          | 0.279085          | 0.645455            | 1.284426            |"
       ]
      },
      {
       "html": [
        "<pre>| 10        | 13.833611    | 0.924786          | 0.249058          | 0.645455            | 1.279890            |</pre>"
       ],
       "metadata": {},
       "output_type": "display_data",
       "text": [
        "| 10        | 13.833611    | 0.924786          | 0.249058          | 0.645455            | 1.279890            |"
       ]
      },
      {
       "html": [
        "<pre>+-----------+--------------+-------------------+-------------------+---------------------+---------------------+</pre>"
       ],
       "metadata": {},
       "output_type": "display_data",
       "text": [
        "+-----------+--------------+-------------------+-------------------+---------------------+---------------------+"
       ]
      },
      {
       "output_type": "stream",
       "stream": "stdout",
       "text": [
        "{'f1_score': 0.6239161278324163, 'auc': 0.9624787571378088, 'recall': 0.6112211740254336, 'precision': 0.6597334683871745, 'log_loss': 1.21134254114507, 'roc_curve': Columns:\n",
        "\tthreshold\tfloat\n",
        "\tfpr\tfloat\n",
        "\ttpr\tfloat\n",
        "\tp\tint\n",
        "\tn\tint\n",
        "\tclass\tint\n",
        "\n",
        "Rows: 3400034\n",
        "\n",
        "Data:\n",
        "+-----------+-----+-----+----+-----+-------+\n",
        "| threshold | fpr | tpr | p  |  n  | class |\n",
        "+-----------+-----+-----+----+-----+-------+\n",
        "|    0.0    | 1.0 | 1.0 | 13 | 408 |   0   |\n",
        "|   1e-05   | 1.0 | 1.0 | 13 | 408 |   0   |\n",
        "|   2e-05   | 1.0 | 1.0 | 13 | 408 |   0   |\n",
        "|   3e-05   | 1.0 | 1.0 | 13 | 408 |   0   |\n",
        "|   4e-05   | 1.0 | 1.0 | 13 | 408 |   0   |\n",
        "|   5e-05   | 1.0 | 1.0 | 13 | 408 |   0   |\n",
        "|   6e-05   | 1.0 | 1.0 | 13 | 408 |   0   |\n",
        "|   7e-05   | 1.0 | 1.0 | 13 | 408 |   0   |\n",
        "|   8e-05   | 1.0 | 1.0 | 13 | 408 |   0   |\n",
        "|   9e-05   | 1.0 | 1.0 | 13 | 408 |   0   |\n",
        "+-----------+-----+-----+----+-----+-------+\n",
        "[3400034 rows x 6 columns]\n",
        "Note: Only the head of the SFrame is printed.\n",
        "You can use print_rows(num_rows=m, num_columns=n) to print more rows and columns., 'confusion_matrix': Columns:\n",
        "\ttarget_label\tstr\n",
        "\tpredicted_label\tstr\n",
        "\tcount\tint\n",
        "\n",
        "Rows: 91\n",
        "\n",
        "Data:\n",
        "+------------------+------------------+-------+\n",
        "|   target_label   | predicted_label  | count |\n",
        "+------------------+------------------+-------+\n",
        "|     veg-oil      |     veg-oil      |   6   |\n",
        "|      grain       |      grain       |   68  |\n",
        "|      grain       |    grainrice     |   5   |\n",
        "|       gnp        |       gnp        |   19  |\n",
        "| interestmoney-fx |   money-supply   |   1   |\n",
        "|  oilseedsoybean  |     veg-oil      |   1   |\n",
        "| livestockcarcass | livestockcarcass |   3   |\n",
        "|    iron-steel    |      grain       |   1   |\n",
        "|     nat-gas      |     pet-chem     |   1   |\n",
        "|      grain       |      cotton      |   1   |\n",
        "+------------------+------------------+-------+\n",
        "[91 rows x 3 columns]\n",
        "Note: Only the head of the SFrame is printed.\n",
        "You can use print_rows(num_rows=m, num_columns=n) to print more rows and columns., 'accuracy': 0.6532066508313539}\n"
       ]
      }
     ],
     "prompt_number": 119
    },
    {
     "cell_type": "code",
     "collapsed": false,
     "input": [
      "model4 = graphlab.nearest_neighbor_classifier.create(train_data, target='X1',\n",
      "                                          features=['tfidf'])\n",
      "\n",
      "predictions = model4.predict(test_data, max_neighbors=20)\n",
      "\n",
      "results = model4.evaluate(test_data)\n",
      "\n",
      "print (results)"
     ],
     "language": "python",
     "metadata": {},
     "outputs": [
      {
       "html": [
        "<pre>Starting brute force nearest neighbors model training.</pre>"
       ],
       "metadata": {},
       "output_type": "display_data",
       "text": [
        "Starting brute force nearest neighbors model training."
       ]
      },
      {
       "html": [
        "<pre>Starting pairwise querying.</pre>"
       ],
       "metadata": {},
       "output_type": "display_data",
       "text": [
        "Starting pairwise querying."
       ]
      },
      {
       "html": [
        "<pre>+--------------+---------+-------------+--------------+</pre>"
       ],
       "metadata": {},
       "output_type": "display_data",
       "text": [
        "+--------------+---------+-------------+--------------+"
       ]
      },
      {
       "html": [
        "<pre>| Query points | # Pairs | % Complete. | Elapsed Time |</pre>"
       ],
       "metadata": {},
       "output_type": "display_data",
       "text": [
        "| Query points | # Pairs | % Complete. | Elapsed Time |"
       ]
      },
      {
       "html": [
        "<pre>+--------------+---------+-------------+--------------+</pre>"
       ],
       "metadata": {},
       "output_type": "display_data",
       "text": [
        "+--------------+---------+-------------+--------------+"
       ]
      },
      {
       "html": [
        "<pre>| 0            | 421     | 0.0536193   | 11.009ms     |</pre>"
       ],
       "metadata": {},
       "output_type": "display_data",
       "text": [
        "| 0            | 421     | 0.0536193   | 11.009ms     |"
       ]
      },
      {
       "html": [
        "<pre>| 239          | 447102  | 56.9437     | 1.01s        |</pre>"
       ],
       "metadata": {},
       "output_type": "display_data",
       "text": [
        "| 239          | 447102  | 56.9437     | 1.01s        |"
       ]
      },
      {
       "html": [
        "<pre>| Done         |         | 100         | 1.71s        |</pre>"
       ],
       "metadata": {},
       "output_type": "display_data",
       "text": [
        "| Done         |         | 100         | 1.71s        |"
       ]
      },
      {
       "html": [
        "<pre>+--------------+---------+-------------+--------------+</pre>"
       ],
       "metadata": {},
       "output_type": "display_data",
       "text": [
        "+--------------+---------+-------------+--------------+"
       ]
      },
      {
       "output_type": "stream",
       "stream": "stdout",
       "text": [
        "WARNING: Ignoring `roc_curve`. Not supported for multi-class classification.\n"
       ]
      },
      {
       "html": [
        "<pre>Starting pairwise querying.</pre>"
       ],
       "metadata": {},
       "output_type": "display_data",
       "text": [
        "Starting pairwise querying."
       ]
      },
      {
       "html": [
        "<pre>+--------------+---------+-------------+--------------+</pre>"
       ],
       "metadata": {},
       "output_type": "display_data",
       "text": [
        "+--------------+---------+-------------+--------------+"
       ]
      },
      {
       "html": [
        "<pre>| Query points | # Pairs | % Complete. | Elapsed Time |</pre>"
       ],
       "metadata": {},
       "output_type": "display_data",
       "text": [
        "| Query points | # Pairs | % Complete. | Elapsed Time |"
       ]
      },
      {
       "html": [
        "<pre>+--------------+---------+-------------+--------------+</pre>"
       ],
       "metadata": {},
       "output_type": "display_data",
       "text": [
        "+--------------+---------+-------------+--------------+"
       ]
      },
      {
       "html": [
        "<pre>| 0            | 421     | 0.0536193   | 9.519ms      |</pre>"
       ],
       "metadata": {},
       "output_type": "display_data",
       "text": [
        "| 0            | 421     | 0.0536193   | 9.519ms      |"
       ]
      },
      {
       "html": [
        "<pre>| 342          | 639499  | 81.4477     | 1.01s        |</pre>"
       ],
       "metadata": {},
       "output_type": "display_data",
       "text": [
        "| 342          | 639499  | 81.4477     | 1.01s        |"
       ]
      },
      {
       "html": [
        "<pre>| Done         |         | 100         | 1.21s        |</pre>"
       ],
       "metadata": {},
       "output_type": "display_data",
       "text": [
        "| Done         |         | 100         | 1.21s        |"
       ]
      },
      {
       "html": [
        "<pre>+--------------+---------+-------------+--------------+</pre>"
       ],
       "metadata": {},
       "output_type": "display_data",
       "text": [
        "+--------------+---------+-------------+--------------+"
       ]
      },
      {
       "html": [
        "<pre>Starting pairwise querying.</pre>"
       ],
       "metadata": {},
       "output_type": "display_data",
       "text": [
        "Starting pairwise querying."
       ]
      },
      {
       "html": [
        "<pre>+--------------+---------+-------------+--------------+</pre>"
       ],
       "metadata": {},
       "output_type": "display_data",
       "text": [
        "+--------------+---------+-------------+--------------+"
       ]
      },
      {
       "html": [
        "<pre>| Query points | # Pairs | % Complete. | Elapsed Time |</pre>"
       ],
       "metadata": {},
       "output_type": "display_data",
       "text": [
        "| Query points | # Pairs | % Complete. | Elapsed Time |"
       ]
      },
      {
       "html": [
        "<pre>+--------------+---------+-------------+--------------+</pre>"
       ],
       "metadata": {},
       "output_type": "display_data",
       "text": [
        "+--------------+---------+-------------+--------------+"
       ]
      },
      {
       "html": [
        "<pre>| 0            | 421     | 0.0536193   | 7.007ms      |</pre>"
       ],
       "metadata": {},
       "output_type": "display_data",
       "text": [
        "| 0            | 421     | 0.0536193   | 7.007ms      |"
       ]
      },
      {
       "html": [
        "<pre>| Done         |         | 100         | 859.624ms    |</pre>"
       ],
       "metadata": {},
       "output_type": "display_data",
       "text": [
        "| Done         |         | 100         | 859.624ms    |"
       ]
      },
      {
       "html": [
        "<pre>+--------------+---------+-------------+--------------+</pre>"
       ],
       "metadata": {},
       "output_type": "display_data",
       "text": [
        "+--------------+---------+-------------+--------------+"
       ]
      },
      {
       "output_type": "stream",
       "stream": "stdout",
       "text": [
        "{'confusion_matrix': Columns:\n",
        "\ttarget_label\tstr\n",
        "\tpredicted_label\tstr\n",
        "\tcount\tint\n",
        "\n",
        "Rows: 113\n",
        "\n",
        "Data:\n",
        "+--------------+-----------------+-------+\n",
        "| target_label | predicted_label | count |\n",
        "+--------------+-----------------+-------+\n",
        "| money-fxdlr  |       gnp       |   1   |\n",
        "| money-fxdlr  |   dlrmoney-fx   |   2   |\n",
        "| money-fxdlr  |   money-fxdlr   |   25  |\n",
        "|     jobs     |       jobs      |   5   |\n",
        "|    copper    |    graincorn    |   1   |\n",
        "|    copper    |      copper     |   8   |\n",
        "|     cpi      |       cpi       |   8   |\n",
        "|   nat-gas    |   money-fxdlr   |   1   |\n",
        "|    copper    |       gold      |   1   |\n",
        "|   pet-chem   |       alum      |   1   |\n",
        "+--------------+-----------------+-------+\n",
        "[113 rows x 3 columns]\n",
        "Note: Only the head of the SFrame is printed.\n",
        "You can use print_rows(num_rows=m, num_columns=n) to print more rows and columns., 'accuracy': 0.6413301662707839}\n"
       ]
      }
     ],
     "prompt_number": 121
    },
    {
     "cell_type": "code",
     "collapsed": false,
     "input": [
      "model5 = graphlab.nearest_neighbor_classifier.create(train_data, target='X1',\n",
      "                                          features=['bow'])\n",
      "\n",
      "predictions = model5.classify(test_data, max_neighbors=20, radius=None)\n",
      "\n",
      "results = model5.evaluate(test_data)\n",
      "\n",
      "print (results)"
     ],
     "language": "python",
     "metadata": {},
     "outputs": [
      {
       "html": [
        "<pre>Starting brute force nearest neighbors model training.</pre>"
       ],
       "metadata": {},
       "output_type": "display_data",
       "text": [
        "Starting brute force nearest neighbors model training."
       ]
      },
      {
       "html": [
        "<pre>Starting pairwise querying.</pre>"
       ],
       "metadata": {},
       "output_type": "display_data",
       "text": [
        "Starting pairwise querying."
       ]
      },
      {
       "html": [
        "<pre>+--------------+---------+-------------+--------------+</pre>"
       ],
       "metadata": {},
       "output_type": "display_data",
       "text": [
        "+--------------+---------+-------------+--------------+"
       ]
      },
      {
       "html": [
        "<pre>| Query points | # Pairs | % Complete. | Elapsed Time |</pre>"
       ],
       "metadata": {},
       "output_type": "display_data",
       "text": [
        "| Query points | # Pairs | % Complete. | Elapsed Time |"
       ]
      },
      {
       "html": [
        "<pre>+--------------+---------+-------------+--------------+</pre>"
       ],
       "metadata": {},
       "output_type": "display_data",
       "text": [
        "+--------------+---------+-------------+--------------+"
       ]
      },
      {
       "html": [
        "<pre>| 0            | 421     | 0.0536193   | 13.009ms     |</pre>"
       ],
       "metadata": {},
       "output_type": "display_data",
       "text": [
        "| 0            | 421     | 0.0536193   | 13.009ms     |"
       ]
      },
      {
       "html": [
        "<pre>| 312          | 583506  | 74.3164     | 1.00s        |</pre>"
       ],
       "metadata": {},
       "output_type": "display_data",
       "text": [
        "| 312          | 583506  | 74.3164     | 1.00s        |"
       ]
      },
      {
       "html": [
        "<pre>| Done         |         | 100         | 1.38s        |</pre>"
       ],
       "metadata": {},
       "output_type": "display_data",
       "text": [
        "| Done         |         | 100         | 1.38s        |"
       ]
      },
      {
       "html": [
        "<pre>+--------------+---------+-------------+--------------+</pre>"
       ],
       "metadata": {},
       "output_type": "display_data",
       "text": [
        "+--------------+---------+-------------+--------------+"
       ]
      },
      {
       "output_type": "stream",
       "stream": "stdout",
       "text": [
        "WARNING: Ignoring `roc_curve`. Not supported for multi-class classification.\n"
       ]
      },
      {
       "html": [
        "<pre>Starting pairwise querying.</pre>"
       ],
       "metadata": {},
       "output_type": "display_data",
       "text": [
        "Starting pairwise querying."
       ]
      },
      {
       "html": [
        "<pre>+--------------+---------+-------------+--------------+</pre>"
       ],
       "metadata": {},
       "output_type": "display_data",
       "text": [
        "+--------------+---------+-------------+--------------+"
       ]
      },
      {
       "html": [
        "<pre>| Query points | # Pairs | % Complete. | Elapsed Time |</pre>"
       ],
       "metadata": {},
       "output_type": "display_data",
       "text": [
        "| Query points | # Pairs | % Complete. | Elapsed Time |"
       ]
      },
      {
       "html": [
        "<pre>+--------------+---------+-------------+--------------+</pre>"
       ],
       "metadata": {},
       "output_type": "display_data",
       "text": [
        "+--------------+---------+-------------+--------------+"
       ]
      },
      {
       "html": [
        "<pre>| 0            | 421     | 0.0536193   | 10.008ms     |</pre>"
       ],
       "metadata": {},
       "output_type": "display_data",
       "text": [
        "| 0            | 421     | 0.0536193   | 10.008ms     |"
       ]
      },
      {
       "html": [
        "<pre>| 390          | 728330  | 92.7614     | 1.01s        |</pre>"
       ],
       "metadata": {},
       "output_type": "display_data",
       "text": [
        "| 390          | 728330  | 92.7614     | 1.01s        |"
       ]
      },
      {
       "html": [
        "<pre>| Done         |         | 100         | 1.07s        |</pre>"
       ],
       "metadata": {},
       "output_type": "display_data",
       "text": [
        "| Done         |         | 100         | 1.07s        |"
       ]
      },
      {
       "html": [
        "<pre>+--------------+---------+-------------+--------------+</pre>"
       ],
       "metadata": {},
       "output_type": "display_data",
       "text": [
        "+--------------+---------+-------------+--------------+"
       ]
      },
      {
       "html": [
        "<pre>Starting pairwise querying.</pre>"
       ],
       "metadata": {},
       "output_type": "display_data",
       "text": [
        "Starting pairwise querying."
       ]
      },
      {
       "html": [
        "<pre>+--------------+---------+-------------+--------------+</pre>"
       ],
       "metadata": {},
       "output_type": "display_data",
       "text": [
        "+--------------+---------+-------------+--------------+"
       ]
      },
      {
       "html": [
        "<pre>| Query points | # Pairs | % Complete. | Elapsed Time |</pre>"
       ],
       "metadata": {},
       "output_type": "display_data",
       "text": [
        "| Query points | # Pairs | % Complete. | Elapsed Time |"
       ]
      },
      {
       "html": [
        "<pre>+--------------+---------+-------------+--------------+</pre>"
       ],
       "metadata": {},
       "output_type": "display_data",
       "text": [
        "+--------------+---------+-------------+--------------+"
       ]
      },
      {
       "html": [
        "<pre>| 0            | 421     | 0.0536193   | 5.001ms      |</pre>"
       ],
       "metadata": {},
       "output_type": "display_data",
       "text": [
        "| 0            | 421     | 0.0536193   | 5.001ms      |"
       ]
      },
      {
       "html": [
        "<pre>| Done         |         | 100         | 788.785ms    |</pre>"
       ],
       "metadata": {},
       "output_type": "display_data",
       "text": [
        "| Done         |         | 100         | 788.785ms    |"
       ]
      },
      {
       "html": [
        "<pre>+--------------+---------+-------------+--------------+</pre>"
       ],
       "metadata": {},
       "output_type": "display_data",
       "text": [
        "+--------------+---------+-------------+--------------+"
       ]
      },
      {
       "output_type": "stream",
       "stream": "stdout",
       "text": [
        "{'confusion_matrix': Columns:\n",
        "\ttarget_label\tstr\n",
        "\tpredicted_label\tstr\n",
        "\tcount\tint\n",
        "\n",
        "Rows: 125\n",
        "\n",
        "Data:\n",
        "+-----------------+-----------------+-------+\n",
        "|   target_label  | predicted_label | count |\n",
        "+-----------------+-----------------+-------+\n",
        "|     pet-chem    |       gnp       |   2   |\n",
        "|       ipi       |      grain      |   1   |\n",
        "|     pet-chem    |     pet-chem    |   1   |\n",
        "|    crudeship    |   money-fxdlr   |   1   |\n",
        "| veg-oilpalm-oil | veg-oilpalm-oil |   1   |\n",
        "|    iron-steel   |      grain      |   2   |\n",
        "|     nat-gas     |      grain      |   2   |\n",
        "|    crudeship    |      grain      |   3   |\n",
        "|       bop       |     tradebop    |   2   |\n",
        "|       bop       |       bop       |   6   |\n",
        "+-----------------+-----------------+-------+\n",
        "[125 rows x 3 columns]\n",
        "Note: Only the head of the SFrame is printed.\n",
        "You can use print_rows(num_rows=m, num_columns=n) to print more rows and columns., 'accuracy': 0.5581947743467933}\n"
       ]
      }
     ],
     "prompt_number": 122
    },
    {
     "cell_type": "code",
     "collapsed": false,
     "input": [
      "model6 = graphlab.nearest_neighbor_classifier.create(train_data, target='X1',\n",
      "                                          features=['bow','tfidf'])\n",
      "\n",
      "predictions = model6.classify(test_data, max_neighbors=20, radius=None)\n",
      "\n",
      "results = model6.evaluate(test_data)\n",
      "\n",
      "print (results)"
     ],
     "language": "python",
     "metadata": {},
     "outputs": [
      {
       "html": [
        "<pre>Starting brute force nearest neighbors model training.</pre>"
       ],
       "metadata": {},
       "output_type": "display_data",
       "text": [
        "Starting brute force nearest neighbors model training."
       ]
      },
      {
       "html": [
        "<pre>Starting pairwise querying.</pre>"
       ],
       "metadata": {},
       "output_type": "display_data",
       "text": [
        "Starting pairwise querying."
       ]
      },
      {
       "html": [
        "<pre>+--------------+---------+-------------+--------------+</pre>"
       ],
       "metadata": {},
       "output_type": "display_data",
       "text": [
        "+--------------+---------+-------------+--------------+"
       ]
      },
      {
       "html": [
        "<pre>| Query points | # Pairs | % Complete. | Elapsed Time |</pre>"
       ],
       "metadata": {},
       "output_type": "display_data",
       "text": [
        "| Query points | # Pairs | % Complete. | Elapsed Time |"
       ]
      },
      {
       "html": [
        "<pre>+--------------+---------+-------------+--------------+</pre>"
       ],
       "metadata": {},
       "output_type": "display_data",
       "text": [
        "+--------------+---------+-------------+--------------+"
       ]
      },
      {
       "html": [
        "<pre>| 0            | 421     | 0.0536193   | 24.991ms     |</pre>"
       ],
       "metadata": {},
       "output_type": "display_data",
       "text": [
        "| 0            | 421     | 0.0536193   | 24.991ms     |"
       ]
      },
      {
       "html": [
        "<pre>| 177          | 330485  | 42.0912     | 1.02s        |</pre>"
       ],
       "metadata": {},
       "output_type": "display_data",
       "text": [
        "| 177          | 330485  | 42.0912     | 1.02s        |"
       ]
      },
      {
       "html": [
        "<pre>| 387          | 722436  | 92.0107     | 2.02s        |</pre>"
       ],
       "metadata": {},
       "output_type": "display_data",
       "text": [
        "| 387          | 722436  | 92.0107     | 2.02s        |"
       ]
      },
      {
       "html": [
        "<pre>| Done         |         | 100         | 2.19s        |</pre>"
       ],
       "metadata": {},
       "output_type": "display_data",
       "text": [
        "| Done         |         | 100         | 2.19s        |"
       ]
      },
      {
       "html": [
        "<pre>+--------------+---------+-------------+--------------+</pre>"
       ],
       "metadata": {},
       "output_type": "display_data",
       "text": [
        "+--------------+---------+-------------+--------------+"
       ]
      },
      {
       "output_type": "stream",
       "stream": "stdout",
       "text": [
        "WARNING: Ignoring `roc_curve`. Not supported for multi-class classification.\n"
       ]
      },
      {
       "html": [
        "<pre>Starting pairwise querying.</pre>"
       ],
       "metadata": {},
       "output_type": "display_data",
       "text": [
        "Starting pairwise querying."
       ]
      },
      {
       "html": [
        "<pre>+--------------+---------+-------------+--------------+</pre>"
       ],
       "metadata": {},
       "output_type": "display_data",
       "text": [
        "+--------------+---------+-------------+--------------+"
       ]
      },
      {
       "html": [
        "<pre>| Query points | # Pairs | % Complete. | Elapsed Time |</pre>"
       ],
       "metadata": {},
       "output_type": "display_data",
       "text": [
        "| Query points | # Pairs | % Complete. | Elapsed Time |"
       ]
      },
      {
       "html": [
        "<pre>+--------------+---------+-------------+--------------+</pre>"
       ],
       "metadata": {},
       "output_type": "display_data",
       "text": [
        "+--------------+---------+-------------+--------------+"
       ]
      },
      {
       "html": [
        "<pre>| 0            | 421     | 0.0536193   | 18.01ms      |</pre>"
       ],
       "metadata": {},
       "output_type": "display_data",
       "text": [
        "| 0            | 421     | 0.0536193   | 18.01ms      |"
       ]
      },
      {
       "html": [
        "<pre>| 267          | 499306  | 63.5925     | 1.01s        |</pre>"
       ],
       "metadata": {},
       "output_type": "display_data",
       "text": [
        "| 267          | 499306  | 63.5925     | 1.01s        |"
       ]
      },
      {
       "html": [
        "<pre>| Done         |         | 100         | 1.44s        |</pre>"
       ],
       "metadata": {},
       "output_type": "display_data",
       "text": [
        "| Done         |         | 100         | 1.44s        |"
       ]
      },
      {
       "html": [
        "<pre>+--------------+---------+-------------+--------------+</pre>"
       ],
       "metadata": {},
       "output_type": "display_data",
       "text": [
        "+--------------+---------+-------------+--------------+"
       ]
      },
      {
       "html": [
        "<pre>Starting pairwise querying.</pre>"
       ],
       "metadata": {},
       "output_type": "display_data",
       "text": [
        "Starting pairwise querying."
       ]
      },
      {
       "html": [
        "<pre>+--------------+---------+-------------+--------------+</pre>"
       ],
       "metadata": {},
       "output_type": "display_data",
       "text": [
        "+--------------+---------+-------------+--------------+"
       ]
      },
      {
       "html": [
        "<pre>| Query points | # Pairs | % Complete. | Elapsed Time |</pre>"
       ],
       "metadata": {},
       "output_type": "display_data",
       "text": [
        "| Query points | # Pairs | % Complete. | Elapsed Time |"
       ]
      },
      {
       "html": [
        "<pre>+--------------+---------+-------------+--------------+</pre>"
       ],
       "metadata": {},
       "output_type": "display_data",
       "text": [
        "+--------------+---------+-------------+--------------+"
       ]
      },
      {
       "html": [
        "<pre>| 0            | 421     | 0.0536193   | 13.996ms     |</pre>"
       ],
       "metadata": {},
       "output_type": "display_data",
       "text": [
        "| 0            | 421     | 0.0536193   | 13.996ms     |"
       ]
      },
      {
       "html": [
        "<pre>| Done         |         | 100         | 916.645ms    |</pre>"
       ],
       "metadata": {},
       "output_type": "display_data",
       "text": [
        "| Done         |         | 100         | 916.645ms    |"
       ]
      },
      {
       "html": [
        "<pre>+--------------+---------+-------------+--------------+</pre>"
       ],
       "metadata": {},
       "output_type": "display_data",
       "text": [
        "+--------------+---------+-------------+--------------+"
       ]
      },
      {
       "output_type": "stream",
       "stream": "stdout",
       "text": [
        "{'confusion_matrix': Columns:\n",
        "\ttarget_label\tstr\n",
        "\tpredicted_label\tstr\n",
        "\tcount\tint\n",
        "\n",
        "Rows: 117\n",
        "\n",
        "Data:\n",
        "+----------------+-----------------+-------+\n",
        "|  target_label  | predicted_label | count |\n",
        "+----------------+-----------------+-------+\n",
        "|     copper     |       gnp       |   1   |\n",
        "|     copper     |      copper     |   7   |\n",
        "|      cpi       |       cpi       |   8   |\n",
        "|    nat-gas     |   money-fxdlr   |   1   |\n",
        "|     copper     |       gold      |   1   |\n",
        "|    pet-chem    |       alum      |   1   |\n",
        "|    pet-chem    |      copper     |   1   |\n",
        "|    pet-chem    |   crudenat-gas  |   1   |\n",
        "|    pet-chem    |     pet-chem    |   2   |\n",
        "| oilseedsoybean |  oilseedsoybean |   1   |\n",
        "+----------------+-----------------+-------+\n",
        "[117 rows x 3 columns]\n",
        "Note: Only the head of the SFrame is printed.\n",
        "You can use print_rows(num_rows=m, num_columns=n) to print more rows and columns., 'accuracy': 0.6270783847980997}\n"
       ]
      }
     ],
     "prompt_number": 123
    },
    {
     "cell_type": "code",
     "collapsed": false,
     "input": [
      "model7 = graphlab.decision_tree_classifier.create(train_data, target='X1',features=['tfidf'])\n",
      "\n",
      "predictions = model7.predict(test_data)\n",
      "\n",
      "results = model7.evaluate(test_data)\n",
      "\n",
      "print (results)"
     ],
     "language": "python",
     "metadata": {},
     "outputs": [
      {
       "output_type": "stream",
       "stream": "stdout",
       "text": [
        "PROGRESS: Creating a validation set from 5 percent of training data. This may take a while.\n",
        "          You can set ``validation_set=None`` to disable validation tracking.\n",
        "\n"
       ]
      },
      {
       "html": [
        "<pre>WARNING: The number of feature dimensions in this problem is very large in comparison with the number of examples. Unless an appropriate regularization value is set, this model may not provide accurate predictions for a validation/test set.</pre>"
       ],
       "metadata": {},
       "output_type": "display_data",
       "text": [
        "WARNING: The number of feature dimensions in this problem is very large in comparison with the number of examples. Unless an appropriate regularization value is set, this model may not provide accurate predictions for a validation/test set."
       ]
      },
      {
       "html": [
        "<pre>WARNING: Detected extremely low variance for feature(s) 'tfidf' because all entries are nearly the same.\n",
        "Proceeding with model training using all features. If the model does not provide results of adequate quality, exclude the above mentioned feature(s) from the input dataset.</pre>"
       ],
       "metadata": {},
       "output_type": "display_data",
       "text": [
        "WARNING: Detected extremely low variance for feature(s) 'tfidf' because all entries are nearly the same.\n",
        "Proceeding with model training using all features. If the model does not provide results of adequate quality, exclude the above mentioned feature(s) from the input dataset."
       ]
      },
      {
       "html": [
        "<pre>Decision tree classifier:</pre>"
       ],
       "metadata": {},
       "output_type": "display_data",
       "text": [
        "Decision tree classifier:"
       ]
      },
      {
       "html": [
        "<pre>--------------------------------------------------------</pre>"
       ],
       "metadata": {},
       "output_type": "display_data",
       "text": [
        "--------------------------------------------------------"
       ]
      },
      {
       "html": [
        "<pre>Number of examples          : 1776</pre>"
       ],
       "metadata": {},
       "output_type": "display_data",
       "text": [
        "Number of examples          : 1776"
       ]
      },
      {
       "html": [
        "<pre>Number of classes           : 34</pre>"
       ],
       "metadata": {},
       "output_type": "display_data",
       "text": [
        "Number of classes           : 34"
       ]
      },
      {
       "html": [
        "<pre>Number of feature columns   : 1</pre>"
       ],
       "metadata": {},
       "output_type": "display_data",
       "text": [
        "Number of feature columns   : 1"
       ]
      },
      {
       "html": [
        "<pre>Number of unpacked features : 17080</pre>"
       ],
       "metadata": {},
       "output_type": "display_data",
       "text": [
        "Number of unpacked features : 17080"
       ]
      },
      {
       "html": [
        "<pre>+-----------+--------------+-------------------+-------------------+---------------------+---------------------+</pre>"
       ],
       "metadata": {},
       "output_type": "display_data",
       "text": [
        "+-----------+--------------+-------------------+-------------------+---------------------+---------------------+"
       ]
      },
      {
       "html": [
        "<pre>| Iteration | Elapsed Time | Training-accuracy | Training-log_loss | Validation-accuracy | Validation-log_loss |</pre>"
       ],
       "metadata": {},
       "output_type": "display_data",
       "text": [
        "| Iteration | Elapsed Time | Training-accuracy | Training-log_loss | Validation-accuracy | Validation-log_loss |"
       ]
      },
      {
       "html": [
        "<pre>+-----------+--------------+-------------------+-------------------+---------------------+---------------------+</pre>"
       ],
       "metadata": {},
       "output_type": "display_data",
       "text": [
        "+-----------+--------------+-------------------+-------------------+---------------------+---------------------+"
       ]
      },
      {
       "html": [
        "<pre>| 1         | 2.017111     | 0.873874          | 1.262868          | 0.685393            | 1.846141            |</pre>"
       ],
       "metadata": {},
       "output_type": "display_data",
       "text": [
        "| 1         | 2.017111     | 0.873874          | 1.262868          | 0.685393            | 1.846141            |"
       ]
      },
      {
       "html": [
        "<pre>+-----------+--------------+-------------------+-------------------+---------------------+---------------------+</pre>"
       ],
       "metadata": {},
       "output_type": "display_data",
       "text": [
        "+-----------+--------------+-------------------+-------------------+---------------------+---------------------+"
       ]
      },
      {
       "output_type": "stream",
       "stream": "stdout",
       "text": [
        "{'f1_score': 0.6074452163014394, 'auc': 0.929878456697978, 'recall': 0.5892736984451915, 'precision': 0.6545692187599734, 'log_loss': 1.7646597277676348, 'roc_curve': Columns:\n",
        "\tthreshold\tfloat\n",
        "\tfpr\tfloat\n",
        "\ttpr\tfloat\n",
        "\tp\tint\n",
        "\tn\tint\n",
        "\tclass\tint\n",
        "\n",
        "Rows: 3400034\n",
        "\n",
        "Data:\n",
        "+-----------+-----+-----+----+-----+-------+\n",
        "| threshold | fpr | tpr | p  |  n  | class |\n",
        "+-----------+-----+-----+----+-----+-------+\n",
        "|    0.0    | 1.0 | 1.0 | 13 | 408 |   0   |\n",
        "|   1e-05   | 1.0 | 1.0 | 13 | 408 |   0   |\n",
        "|   2e-05   | 1.0 | 1.0 | 13 | 408 |   0   |\n",
        "|   3e-05   | 1.0 | 1.0 | 13 | 408 |   0   |\n",
        "|   4e-05   | 1.0 | 1.0 | 13 | 408 |   0   |\n",
        "|   5e-05   | 1.0 | 1.0 | 13 | 408 |   0   |\n",
        "|   6e-05   | 1.0 | 1.0 | 13 | 408 |   0   |\n",
        "|   7e-05   | 1.0 | 1.0 | 13 | 408 |   0   |\n",
        "|   8e-05   | 1.0 | 1.0 | 13 | 408 |   0   |\n",
        "|   9e-05   | 1.0 | 1.0 | 13 | 408 |   0   |\n",
        "+-----------+-----+-----+----+-----+-------+\n",
        "[3400034 rows x 6 columns]\n",
        "Note: Only the head of the SFrame is printed.\n",
        "You can use print_rows(num_rows=m, num_columns=n) to print more rows and columns., 'confusion_matrix': Columns:\n",
        "\ttarget_label\tstr\n",
        "\tpredicted_label\tstr\n",
        "\tcount\tint\n",
        "\n",
        "Rows: 104\n",
        "\n",
        "Data:\n",
        "+--------------+-----------------+-------+\n",
        "| target_label | predicted_label | count |\n",
        "+--------------+-----------------+-------+\n",
        "|   pet-chem   |      grain      |   3   |\n",
        "|  crudeship   |    shipcrude    |   4   |\n",
        "|   pet-chem   |     pet-chem    |   1   |\n",
        "|   nat-gas    |   crudenat-gas  |   1   |\n",
        "|     gas      |       gas       |   4   |\n",
        "|     bop      |       bop       |   3   |\n",
        "|    cocoa     |      cocoa      |   9   |\n",
        "|     bop      |      grain      |   3   |\n",
        "|   tradebop   |       bop       |   2   |\n",
        "|  shipcrude   |    crudeship    |   3   |\n",
        "+--------------+-----------------+-------+\n",
        "[104 rows x 3 columns]\n",
        "Note: Only the head of the SFrame is printed.\n",
        "You can use print_rows(num_rows=m, num_columns=n) to print more rows and columns., 'accuracy': 0.6555819477434679}\n"
       ]
      }
     ],
     "prompt_number": 124
    },
    {
     "cell_type": "code",
     "collapsed": false,
     "input": [
      "model8 = graphlab.decision_tree_classifier.create(train_data, target='X1',features=['bow'])\n",
      "\n",
      "predictions = model8.predict(test_data)\n",
      "\n",
      "results = model8.evaluate(test_data)\n",
      "\n",
      "print (results)"
     ],
     "language": "python",
     "metadata": {},
     "outputs": [
      {
       "output_type": "stream",
       "stream": "stdout",
       "text": [
        "PROGRESS: Creating a validation set from 5 percent of training data. This may take a while.\n",
        "          You can set ``validation_set=None`` to disable validation tracking.\n",
        "\n"
       ]
      },
      {
       "html": [
        "<pre>WARNING: The number of feature dimensions in this problem is very large in comparison with the number of examples. Unless an appropriate regularization value is set, this model may not provide accurate predictions for a validation/test set.</pre>"
       ],
       "metadata": {},
       "output_type": "display_data",
       "text": [
        "WARNING: The number of feature dimensions in this problem is very large in comparison with the number of examples. Unless an appropriate regularization value is set, this model may not provide accurate predictions for a validation/test set."
       ]
      },
      {
       "html": [
        "<pre>Decision tree classifier:</pre>"
       ],
       "metadata": {},
       "output_type": "display_data",
       "text": [
        "Decision tree classifier:"
       ]
      },
      {
       "html": [
        "<pre>--------------------------------------------------------</pre>"
       ],
       "metadata": {},
       "output_type": "display_data",
       "text": [
        "--------------------------------------------------------"
       ]
      },
      {
       "html": [
        "<pre>Number of examples          : 1781</pre>"
       ],
       "metadata": {},
       "output_type": "display_data",
       "text": [
        "Number of examples          : 1781"
       ]
      },
      {
       "html": [
        "<pre>Number of classes           : 34</pre>"
       ],
       "metadata": {},
       "output_type": "display_data",
       "text": [
        "Number of classes           : 34"
       ]
      },
      {
       "html": [
        "<pre>Number of feature columns   : 1</pre>"
       ],
       "metadata": {},
       "output_type": "display_data",
       "text": [
        "Number of feature columns   : 1"
       ]
      },
      {
       "html": [
        "<pre>Number of unpacked features : 17107</pre>"
       ],
       "metadata": {},
       "output_type": "display_data",
       "text": [
        "Number of unpacked features : 17107"
       ]
      },
      {
       "html": [
        "<pre>+-----------+--------------+-------------------+-------------------+---------------------+---------------------+</pre>"
       ],
       "metadata": {},
       "output_type": "display_data",
       "text": [
        "+-----------+--------------+-------------------+-------------------+---------------------+---------------------+"
       ]
      },
      {
       "html": [
        "<pre>| Iteration | Elapsed Time | Training-accuracy | Training-log_loss | Validation-accuracy | Validation-log_loss |</pre>"
       ],
       "metadata": {},
       "output_type": "display_data",
       "text": [
        "| Iteration | Elapsed Time | Training-accuracy | Training-log_loss | Validation-accuracy | Validation-log_loss |"
       ]
      },
      {
       "html": [
        "<pre>+-----------+--------------+-------------------+-------------------+---------------------+---------------------+</pre>"
       ],
       "metadata": {},
       "output_type": "display_data",
       "text": [
        "+-----------+--------------+-------------------+-------------------+---------------------+---------------------+"
       ]
      },
      {
       "html": [
        "<pre>| 1         | 1.876286     | 0.880404          | 1.268811          | 0.726190            | 1.592029            |</pre>"
       ],
       "metadata": {},
       "output_type": "display_data",
       "text": [
        "| 1         | 1.876286     | 0.880404          | 1.268811          | 0.726190            | 1.592029            |"
       ]
      },
      {
       "html": [
        "<pre>+-----------+--------------+-------------------+-------------------+---------------------+---------------------+</pre>"
       ],
       "metadata": {},
       "output_type": "display_data",
       "text": [
        "+-----------+--------------+-------------------+-------------------+---------------------+---------------------+"
       ]
      },
      {
       "output_type": "stream",
       "stream": "stdout",
       "text": [
        "{'f1_score': 0.626715746534739, 'auc': 0.926140260649906, 'recall': 0.620395604604463, 'precision': 0.6632036091176708, 'log_loss': 1.8020316982849678, 'roc_curve': Columns:\n",
        "\tthreshold\tfloat\n",
        "\tfpr\tfloat\n",
        "\ttpr\tfloat\n",
        "\tp\tint\n",
        "\tn\tint\n",
        "\tclass\tint\n",
        "\n",
        "Rows: 3400034\n",
        "\n",
        "Data:\n",
        "+-----------+-----+-----+----+-----+-------+\n",
        "| threshold | fpr | tpr | p  |  n  | class |\n",
        "+-----------+-----+-----+----+-----+-------+\n",
        "|    0.0    | 1.0 | 1.0 | 13 | 408 |   0   |\n",
        "|   1e-05   | 1.0 | 1.0 | 13 | 408 |   0   |\n",
        "|   2e-05   | 1.0 | 1.0 | 13 | 408 |   0   |\n",
        "|   3e-05   | 1.0 | 1.0 | 13 | 408 |   0   |\n",
        "|   4e-05   | 1.0 | 1.0 | 13 | 408 |   0   |\n",
        "|   5e-05   | 1.0 | 1.0 | 13 | 408 |   0   |\n",
        "|   6e-05   | 1.0 | 1.0 | 13 | 408 |   0   |\n",
        "|   7e-05   | 1.0 | 1.0 | 13 | 408 |   0   |\n",
        "|   8e-05   | 1.0 | 1.0 | 13 | 408 |   0   |\n",
        "|   9e-05   | 1.0 | 1.0 | 13 | 408 |   0   |\n",
        "+-----------+-----+-----+----+-----+-------+\n",
        "[3400034 rows x 6 columns]\n",
        "Note: Only the head of the SFrame is printed.\n",
        "You can use print_rows(num_rows=m, num_columns=n) to print more rows and columns., 'confusion_matrix': Columns:\n",
        "\ttarget_label\tstr\n",
        "\tpredicted_label\tstr\n",
        "\tcount\tint\n",
        "\n",
        "Rows: 103\n",
        "\n",
        "Data:\n",
        "+----------------+-----------------+-------+\n",
        "|  target_label  | predicted_label | count |\n",
        "+----------------+-----------------+-------+\n",
        "|  money-fxdlr   |       gnp       |   1   |\n",
        "|    pet-chem    |      grain      |   3   |\n",
        "|   crudeship    |    shipcrude    |   2   |\n",
        "|    pet-chem    |     pet-chem    |   1   |\n",
        "|      gnp       |       wpi       |   1   |\n",
        "|    nat-gas     |   crudenat-gas  |   1   |\n",
        "| oilseedsoybean |      grain      |   1   |\n",
        "|      ipi       |      grain      |   1   |\n",
        "|      gold      |       cpi       |   1   |\n",
        "|      tin       |      cocoa      |   1   |\n",
        "+----------------+-----------------+-------+\n",
        "[103 rows x 3 columns]\n",
        "Note: Only the head of the SFrame is printed.\n",
        "You can use print_rows(num_rows=m, num_columns=n) to print more rows and columns., 'accuracy': 0.66270783847981}\n"
       ]
      }
     ],
     "prompt_number": 112
    },
    {
     "cell_type": "code",
     "collapsed": false,
     "input": [
      "model9 = graphlab.decision_tree_classifier.create(train_data, target='X1',features=['bow','tfidf'])\n",
      "\n",
      "predictions = model9.predict(test_data)\n",
      "\n",
      "results = model9.evaluate(test_data)\n",
      "\n",
      "print (results)"
     ],
     "language": "python",
     "metadata": {},
     "outputs": [
      {
       "output_type": "stream",
       "stream": "stdout",
       "text": [
        "PROGRESS: Creating a validation set from 5 percent of training data. This may take a while.\n",
        "          You can set ``validation_set=None`` to disable validation tracking.\n",
        "\n"
       ]
      },
      {
       "html": [
        "<pre>WARNING: The number of feature dimensions in this problem is very large in comparison with the number of examples. Unless an appropriate regularization value is set, this model may not provide accurate predictions for a validation/test set.</pre>"
       ],
       "metadata": {},
       "output_type": "display_data",
       "text": [
        "WARNING: The number of feature dimensions in this problem is very large in comparison with the number of examples. Unless an appropriate regularization value is set, this model may not provide accurate predictions for a validation/test set."
       ]
      },
      {
       "html": [
        "<pre>WARNING: Detected extremely low variance for feature(s) 'tfidf' because all entries are nearly the same.\n",
        "Proceeding with model training using all features. If the model does not provide results of adequate quality, exclude the above mentioned feature(s) from the input dataset.</pre>"
       ],
       "metadata": {},
       "output_type": "display_data",
       "text": [
        "WARNING: Detected extremely low variance for feature(s) 'tfidf' because all entries are nearly the same.\n",
        "Proceeding with model training using all features. If the model does not provide results of adequate quality, exclude the above mentioned feature(s) from the input dataset."
       ]
      },
      {
       "html": [
        "<pre>Decision tree classifier:</pre>"
       ],
       "metadata": {},
       "output_type": "display_data",
       "text": [
        "Decision tree classifier:"
       ]
      },
      {
       "html": [
        "<pre>--------------------------------------------------------</pre>"
       ],
       "metadata": {},
       "output_type": "display_data",
       "text": [
        "--------------------------------------------------------"
       ]
      },
      {
       "html": [
        "<pre>Number of examples          : 1775</pre>"
       ],
       "metadata": {},
       "output_type": "display_data",
       "text": [
        "Number of examples          : 1775"
       ]
      },
      {
       "html": [
        "<pre>Number of classes           : 34</pre>"
       ],
       "metadata": {},
       "output_type": "display_data",
       "text": [
        "Number of classes           : 34"
       ]
      },
      {
       "html": [
        "<pre>Number of feature columns   : 2</pre>"
       ],
       "metadata": {},
       "output_type": "display_data",
       "text": [
        "Number of feature columns   : 2"
       ]
      },
      {
       "html": [
        "<pre>Number of unpacked features : 34288</pre>"
       ],
       "metadata": {},
       "output_type": "display_data",
       "text": [
        "Number of unpacked features : 34288"
       ]
      },
      {
       "html": [
        "<pre>+-----------+--------------+-------------------+-------------------+---------------------+---------------------+</pre>"
       ],
       "metadata": {},
       "output_type": "display_data",
       "text": [
        "+-----------+--------------+-------------------+-------------------+---------------------+---------------------+"
       ]
      },
      {
       "html": [
        "<pre>| Iteration | Elapsed Time | Training-accuracy | Training-log_loss | Validation-accuracy | Validation-log_loss |</pre>"
       ],
       "metadata": {},
       "output_type": "display_data",
       "text": [
        "| Iteration | Elapsed Time | Training-accuracy | Training-log_loss | Validation-accuracy | Validation-log_loss |"
       ]
      },
      {
       "html": [
        "<pre>+-----------+--------------+-------------------+-------------------+---------------------+---------------------+</pre>"
       ],
       "metadata": {},
       "output_type": "display_data",
       "text": [
        "+-----------+--------------+-------------------+-------------------+---------------------+---------------------+"
       ]
      },
      {
       "html": [
        "<pre>| 1         | 3.593015     | 0.880000          | 1.253229          | 0.711111            | 1.820767            |</pre>"
       ],
       "metadata": {},
       "output_type": "display_data",
       "text": [
        "| 1         | 3.593015     | 0.880000          | 1.253229          | 0.711111            | 1.820767            |"
       ]
      },
      {
       "html": [
        "<pre>+-----------+--------------+-------------------+-------------------+---------------------+---------------------+</pre>"
       ],
       "metadata": {},
       "output_type": "display_data",
       "text": [
        "+-----------+--------------+-------------------+-------------------+---------------------+---------------------+"
       ]
      },
      {
       "output_type": "stream",
       "stream": "stdout",
       "text": [
        "{'f1_score': 0.6215784625709723, 'auc': 0.9273110279370843, 'recall': 0.6109860040570915, 'precision': 0.6516939440983007, 'log_loss': 1.7831805592999053, 'roc_curve': Columns:\n",
        "\tthreshold\tfloat\n",
        "\tfpr\tfloat\n",
        "\ttpr\tfloat\n",
        "\tp\tint\n",
        "\tn\tint\n",
        "\tclass\tint\n",
        "\n",
        "Rows: 3400034\n",
        "\n",
        "Data:\n",
        "+-----------+-----+-----+----+-----+-------+\n",
        "| threshold | fpr | tpr | p  |  n  | class |\n",
        "+-----------+-----+-----+----+-----+-------+\n",
        "|    0.0    | 1.0 | 1.0 | 13 | 408 |   0   |\n",
        "|   1e-05   | 1.0 | 1.0 | 13 | 408 |   0   |\n",
        "|   2e-05   | 1.0 | 1.0 | 13 | 408 |   0   |\n",
        "|   3e-05   | 1.0 | 1.0 | 13 | 408 |   0   |\n",
        "|   4e-05   | 1.0 | 1.0 | 13 | 408 |   0   |\n",
        "|   5e-05   | 1.0 | 1.0 | 13 | 408 |   0   |\n",
        "|   6e-05   | 1.0 | 1.0 | 13 | 408 |   0   |\n",
        "|   7e-05   | 1.0 | 1.0 | 13 | 408 |   0   |\n",
        "|   8e-05   | 1.0 | 1.0 | 13 | 408 |   0   |\n",
        "|   9e-05   | 1.0 | 1.0 | 13 | 408 |   0   |\n",
        "+-----------+-----+-----+----+-----+-------+\n",
        "[3400034 rows x 6 columns]\n",
        "Note: Only the head of the SFrame is printed.\n",
        "You can use print_rows(num_rows=m, num_columns=n) to print more rows and columns., 'confusion_matrix': Columns:\n",
        "\ttarget_label\tstr\n",
        "\tpredicted_label\tstr\n",
        "\tcount\tint\n",
        "\n",
        "Rows: 98\n",
        "\n",
        "Data:\n",
        "+-----------------+-----------------+-------+\n",
        "|   target_label  | predicted_label | count |\n",
        "+-----------------+-----------------+-------+\n",
        "|  money-fxdlryen |       gnp       |   1   |\n",
        "|   money-fxdlr   |       gnp       |   1   |\n",
        "|     tradebop    |       bop       |   2   |\n",
        "|    shipcrude    |    crudeship    |   3   |\n",
        "|       tin       |      cocoa      |   1   |\n",
        "|  oilseedsoybean |      grain      |   2   |\n",
        "|       ipi       |      grain      |   1   |\n",
        "| veg-oilpalm-oil | veg-oilpalm-oil |   1   |\n",
        "|       gnp       |  money-fxdlryen |   1   |\n",
        "|      grain      |    grainrice    |   2   |\n",
        "+-----------------+-----------------+-------+\n",
        "[98 rows x 3 columns]\n",
        "Note: Only the head of the SFrame is printed.\n",
        "You can use print_rows(num_rows=m, num_columns=n) to print more rows and columns., 'accuracy': 0.672209026128266}\n"
       ]
      }
     ],
     "prompt_number": 125
    }
   ],
   "metadata": {}
  }
 ]
}